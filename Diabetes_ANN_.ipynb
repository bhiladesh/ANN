{
  "nbformat": 4,
  "nbformat_minor": 0,
  "metadata": {
    "colab": {
      "name": "Diabetes ANN .ipynb",
      "provenance": []
    },
    "kernelspec": {
      "name": "python3",
      "display_name": "Python 3"
    },
    "language_info": {
      "name": "python"
    }
  },
  "cells": [
    {
      "cell_type": "code",
      "metadata": {
        "id": "_t4qR_eqnirT"
      },
      "source": [
        "#Lets import the required librarires\n",
        "import pandas as pd\n",
        "import numpy as np\n",
        "import seaborn as sns\n",
        "import matplotlib.pyplot as plt\n"
      ],
      "execution_count": 1,
      "outputs": []
    },
    {
      "cell_type": "code",
      "metadata": {
        "id": "_JMBOUl2r-jW"
      },
      "source": [
        "#Lets laod the data set\n",
        "dia = pd.read_csv('/content/diabetes.csv')"
      ],
      "execution_count": 2,
      "outputs": []
    },
    {
      "cell_type": "code",
      "metadata": {
        "colab": {
          "base_uri": "https://localhost:8080/",
          "height": 419
        },
        "id": "yjgbn1R9y-hp",
        "outputId": "e8904c26-7627-443b-c633-0ae9cf78dab2"
      },
      "source": [
        "#lets check the dia\n",
        "dia"
      ],
      "execution_count": 29,
      "outputs": [
        {
          "output_type": "execute_result",
          "data": {
            "text/html": [
              "<div>\n",
              "<style scoped>\n",
              "    .dataframe tbody tr th:only-of-type {\n",
              "        vertical-align: middle;\n",
              "    }\n",
              "\n",
              "    .dataframe tbody tr th {\n",
              "        vertical-align: top;\n",
              "    }\n",
              "\n",
              "    .dataframe thead th {\n",
              "        text-align: right;\n",
              "    }\n",
              "</style>\n",
              "<table border=\"1\" class=\"dataframe\">\n",
              "  <thead>\n",
              "    <tr style=\"text-align: right;\">\n",
              "      <th></th>\n",
              "      <th>Pregnancies</th>\n",
              "      <th>Glucose</th>\n",
              "      <th>BloodPressure</th>\n",
              "      <th>SkinThickness</th>\n",
              "      <th>Insulin</th>\n",
              "      <th>BMI</th>\n",
              "      <th>DiabetesPedigreeFunction</th>\n",
              "      <th>Age</th>\n",
              "      <th>Outcome</th>\n",
              "    </tr>\n",
              "  </thead>\n",
              "  <tbody>\n",
              "    <tr>\n",
              "      <th>0</th>\n",
              "      <td>6</td>\n",
              "      <td>148</td>\n",
              "      <td>72</td>\n",
              "      <td>35</td>\n",
              "      <td>0</td>\n",
              "      <td>33.6</td>\n",
              "      <td>0.627</td>\n",
              "      <td>50</td>\n",
              "      <td>1</td>\n",
              "    </tr>\n",
              "    <tr>\n",
              "      <th>1</th>\n",
              "      <td>1</td>\n",
              "      <td>85</td>\n",
              "      <td>66</td>\n",
              "      <td>29</td>\n",
              "      <td>0</td>\n",
              "      <td>26.6</td>\n",
              "      <td>0.351</td>\n",
              "      <td>31</td>\n",
              "      <td>0</td>\n",
              "    </tr>\n",
              "    <tr>\n",
              "      <th>2</th>\n",
              "      <td>8</td>\n",
              "      <td>183</td>\n",
              "      <td>64</td>\n",
              "      <td>0</td>\n",
              "      <td>0</td>\n",
              "      <td>23.3</td>\n",
              "      <td>0.672</td>\n",
              "      <td>32</td>\n",
              "      <td>1</td>\n",
              "    </tr>\n",
              "    <tr>\n",
              "      <th>3</th>\n",
              "      <td>1</td>\n",
              "      <td>89</td>\n",
              "      <td>66</td>\n",
              "      <td>23</td>\n",
              "      <td>94</td>\n",
              "      <td>28.1</td>\n",
              "      <td>0.167</td>\n",
              "      <td>21</td>\n",
              "      <td>0</td>\n",
              "    </tr>\n",
              "    <tr>\n",
              "      <th>4</th>\n",
              "      <td>0</td>\n",
              "      <td>137</td>\n",
              "      <td>40</td>\n",
              "      <td>35</td>\n",
              "      <td>168</td>\n",
              "      <td>43.1</td>\n",
              "      <td>2.288</td>\n",
              "      <td>33</td>\n",
              "      <td>1</td>\n",
              "    </tr>\n",
              "    <tr>\n",
              "      <th>...</th>\n",
              "      <td>...</td>\n",
              "      <td>...</td>\n",
              "      <td>...</td>\n",
              "      <td>...</td>\n",
              "      <td>...</td>\n",
              "      <td>...</td>\n",
              "      <td>...</td>\n",
              "      <td>...</td>\n",
              "      <td>...</td>\n",
              "    </tr>\n",
              "    <tr>\n",
              "      <th>763</th>\n",
              "      <td>10</td>\n",
              "      <td>101</td>\n",
              "      <td>76</td>\n",
              "      <td>48</td>\n",
              "      <td>180</td>\n",
              "      <td>32.9</td>\n",
              "      <td>0.171</td>\n",
              "      <td>63</td>\n",
              "      <td>0</td>\n",
              "    </tr>\n",
              "    <tr>\n",
              "      <th>764</th>\n",
              "      <td>2</td>\n",
              "      <td>122</td>\n",
              "      <td>70</td>\n",
              "      <td>27</td>\n",
              "      <td>0</td>\n",
              "      <td>36.8</td>\n",
              "      <td>0.340</td>\n",
              "      <td>27</td>\n",
              "      <td>0</td>\n",
              "    </tr>\n",
              "    <tr>\n",
              "      <th>765</th>\n",
              "      <td>5</td>\n",
              "      <td>121</td>\n",
              "      <td>72</td>\n",
              "      <td>23</td>\n",
              "      <td>112</td>\n",
              "      <td>26.2</td>\n",
              "      <td>0.245</td>\n",
              "      <td>30</td>\n",
              "      <td>0</td>\n",
              "    </tr>\n",
              "    <tr>\n",
              "      <th>766</th>\n",
              "      <td>1</td>\n",
              "      <td>126</td>\n",
              "      <td>60</td>\n",
              "      <td>0</td>\n",
              "      <td>0</td>\n",
              "      <td>30.1</td>\n",
              "      <td>0.349</td>\n",
              "      <td>47</td>\n",
              "      <td>1</td>\n",
              "    </tr>\n",
              "    <tr>\n",
              "      <th>767</th>\n",
              "      <td>1</td>\n",
              "      <td>93</td>\n",
              "      <td>70</td>\n",
              "      <td>31</td>\n",
              "      <td>0</td>\n",
              "      <td>30.4</td>\n",
              "      <td>0.315</td>\n",
              "      <td>23</td>\n",
              "      <td>0</td>\n",
              "    </tr>\n",
              "  </tbody>\n",
              "</table>\n",
              "<p>768 rows × 9 columns</p>\n",
              "</div>"
            ],
            "text/plain": [
              "     Pregnancies  Glucose  ...  Age  Outcome\n",
              "0              6      148  ...   50        1\n",
              "1              1       85  ...   31        0\n",
              "2              8      183  ...   32        1\n",
              "3              1       89  ...   21        0\n",
              "4              0      137  ...   33        1\n",
              "..           ...      ...  ...  ...      ...\n",
              "763           10      101  ...   63        0\n",
              "764            2      122  ...   27        0\n",
              "765            5      121  ...   30        0\n",
              "766            1      126  ...   47        1\n",
              "767            1       93  ...   23        0\n",
              "\n",
              "[768 rows x 9 columns]"
            ]
          },
          "metadata": {
            "tags": []
          },
          "execution_count": 29
        }
      ]
    },
    {
      "cell_type": "code",
      "metadata": {
        "colab": {
          "base_uri": "https://localhost:8080/"
        },
        "id": "KCzOC57YsHTJ",
        "outputId": "24857301-4221-468d-d5b3-082b0504897c"
      },
      "source": [
        "#Lets do the data preprocessing\n",
        "dia.isna().sum()"
      ],
      "execution_count": 3,
      "outputs": [
        {
          "output_type": "execute_result",
          "data": {
            "text/plain": [
              "Pregnancies                 0\n",
              "Glucose                     0\n",
              "BloodPressure               0\n",
              "SkinThickness               0\n",
              "Insulin                     0\n",
              "BMI                         0\n",
              "DiabetesPedigreeFunction    0\n",
              "Age                         0\n",
              "Outcome                     0\n",
              "dtype: int64"
            ]
          },
          "metadata": {
            "tags": []
          },
          "execution_count": 3
        }
      ]
    },
    {
      "cell_type": "code",
      "metadata": {
        "colab": {
          "base_uri": "https://localhost:8080/"
        },
        "id": "nWSxVeRXsT79",
        "outputId": "c467302d-8f03-481d-eadf-74d4725bf2b3"
      },
      "source": [
        "#lets check for the decribe\n",
        "dia.describe"
      ],
      "execution_count": 5,
      "outputs": [
        {
          "output_type": "execute_result",
          "data": {
            "text/plain": [
              "<bound method NDFrame.describe of      Pregnancies  Glucose  ...  Age  Outcome\n",
              "0              6      148  ...   50        1\n",
              "1              1       85  ...   31        0\n",
              "2              8      183  ...   32        1\n",
              "3              1       89  ...   21        0\n",
              "4              0      137  ...   33        1\n",
              "..           ...      ...  ...  ...      ...\n",
              "763           10      101  ...   63        0\n",
              "764            2      122  ...   27        0\n",
              "765            5      121  ...   30        0\n",
              "766            1      126  ...   47        1\n",
              "767            1       93  ...   23        0\n",
              "\n",
              "[768 rows x 9 columns]>"
            ]
          },
          "metadata": {
            "tags": []
          },
          "execution_count": 5
        }
      ]
    },
    {
      "cell_type": "code",
      "metadata": {
        "colab": {
          "base_uri": "https://localhost:8080/"
        },
        "id": "7M_89mBYs-nP",
        "outputId": "89aade4c-58b9-44a1-fa05-0959c372af31"
      },
      "source": [
        "dia.columns"
      ],
      "execution_count": 6,
      "outputs": [
        {
          "output_type": "execute_result",
          "data": {
            "text/plain": [
              "Index(['Pregnancies', 'Glucose', 'BloodPressure', 'SkinThickness', 'Insulin',\n",
              "       'BMI', 'DiabetesPedigreeFunction', 'Age', 'Outcome'],\n",
              "      dtype='object')"
            ]
          },
          "metadata": {
            "tags": []
          },
          "execution_count": 6
        }
      ]
    },
    {
      "cell_type": "code",
      "metadata": {
        "colab": {
          "base_uri": "https://localhost:8080/"
        },
        "id": "gac7ltcZtDZL",
        "outputId": "b5a8638e-24a5-4a18-a30f-23b7ebd75d39"
      },
      "source": [
        "dia.info"
      ],
      "execution_count": 7,
      "outputs": [
        {
          "output_type": "execute_result",
          "data": {
            "text/plain": [
              "<bound method DataFrame.info of      Pregnancies  Glucose  ...  Age  Outcome\n",
              "0              6      148  ...   50        1\n",
              "1              1       85  ...   31        0\n",
              "2              8      183  ...   32        1\n",
              "3              1       89  ...   21        0\n",
              "4              0      137  ...   33        1\n",
              "..           ...      ...  ...  ...      ...\n",
              "763           10      101  ...   63        0\n",
              "764            2      122  ...   27        0\n",
              "765            5      121  ...   30        0\n",
              "766            1      126  ...   47        1\n",
              "767            1       93  ...   23        0\n",
              "\n",
              "[768 rows x 9 columns]>"
            ]
          },
          "metadata": {
            "tags": []
          },
          "execution_count": 7
        }
      ]
    },
    {
      "cell_type": "code",
      "metadata": {
        "id": "R_poq3hYtIOt"
      },
      "source": [
        "#lets divide the data in target and dependeable\n",
        "#as the target is diabetics or not i.e. outcome\n",
        "X = dia.iloc[:, :8]\n",
        "\n",
        "y = dia.iloc[:,8]"
      ],
      "execution_count": 8,
      "outputs": []
    },
    {
      "cell_type": "code",
      "metadata": {
        "id": "4t2dsW7ltsc0"
      },
      "source": [
        "#lets split the data in test and train\n",
        "from sklearn.model_selection import train_test_split\n",
        "X_train, X_test, y_train, y_test = train_test_split(X,y,test_size=0.2,random_state=0)"
      ],
      "execution_count": 13,
      "outputs": []
    },
    {
      "cell_type": "code",
      "metadata": {
        "id": "NZfxArTQu0rA"
      },
      "source": [
        "#now as the X contains the more number\n",
        "#Lets standardise it\n",
        "from sklearn.preprocessing import StandardScaler\n",
        "stand = StandardScaler()\n",
        "X_train = stand.fit_transform(X_train)\n",
        "X_test = stand.transform(X_test)"
      ],
      "execution_count": 14,
      "outputs": []
    },
    {
      "cell_type": "code",
      "metadata": {
        "id": "nlVs40mMuZGK"
      },
      "source": [
        "#lets Define the model\n",
        "#Now we will start the Network Arhitecture\n",
        "#Lts choose two hidden layer and Sigmoid as a outlaye activation function\n",
        "#for hidden layer we will use ReLU activation function\n",
        "\n",
        "#lets load the required libraries\n",
        "import keras\n",
        "from keras.models import Sequential\n",
        "from keras.layers import Dense\n",
        "from keras.layers import Dropout\n",
        "#from keras.layers import Activation, Dense, Dropout, Input, BatchNormalization\n",
        "\n",
        "layer = Sequential()\n",
        "\n",
        "#First layer\n",
        "layer.add(Dense(6, input_dim = 8, kernel_initializer = 'glorot_uniform', activation = 'relu' ))\n",
        "#classifier.add(Dropout(p = 0.1))\n",
        "\n",
        "#Second layer\n",
        "layer.add(Dense(6, kernel_initializer = 'glorot_uniform', activation = 'relu' ))\n",
        "#classifier.add(Dropout(p = 0.1))\n",
        "\n",
        "#Output Layer\n",
        "layer.add(Dense(1, kernel_initializer = 'glorot_uniform', activation = 'sigmoid' ))\n"
      ],
      "execution_count": 15,
      "outputs": []
    },
    {
      "cell_type": "code",
      "metadata": {
        "id": "add1hjJ9vK39"
      },
      "source": [
        "##3. Compile Model\n",
        "layer.compile(optimizer = 'adam', loss = 'binary_crossentropy', metrics = ['accuracy'])\n",
        "\n"
      ],
      "execution_count": 16,
      "outputs": []
    },
    {
      "cell_type": "code",
      "metadata": {
        "colab": {
          "base_uri": "https://localhost:8080/"
        },
        "id": "6b3tMIP2vQRc",
        "outputId": "71d7948e-1938-4b60-bff4-0605887df390"
      },
      "source": [
        "##4. Fit model\n",
        "layer.fit(X_train, y_train, batch_size = 10, epochs = 100)"
      ],
      "execution_count": 17,
      "outputs": [
        {
          "output_type": "stream",
          "text": [
            "Epoch 1/100\n",
            "62/62 [==============================] - 14s 1ms/step - loss: 0.6888 - accuracy: 0.5739\n",
            "Epoch 2/100\n",
            "62/62 [==============================] - 0s 1ms/step - loss: 0.6570 - accuracy: 0.6022\n",
            "Epoch 3/100\n",
            "62/62 [==============================] - 0s 1ms/step - loss: 0.6043 - accuracy: 0.6633\n",
            "Epoch 4/100\n",
            "62/62 [==============================] - 0s 1ms/step - loss: 0.6060 - accuracy: 0.6561\n",
            "Epoch 5/100\n",
            "62/62 [==============================] - 0s 1ms/step - loss: 0.5757 - accuracy: 0.6821\n",
            "Epoch 6/100\n",
            "62/62 [==============================] - 0s 1ms/step - loss: 0.5871 - accuracy: 0.6254\n",
            "Epoch 7/100\n",
            "62/62 [==============================] - 0s 1ms/step - loss: 0.5884 - accuracy: 0.6504\n",
            "Epoch 8/100\n",
            "62/62 [==============================] - 0s 1ms/step - loss: 0.5296 - accuracy: 0.6789\n",
            "Epoch 9/100\n",
            "62/62 [==============================] - 0s 1ms/step - loss: 0.5434 - accuracy: 0.6810\n",
            "Epoch 10/100\n",
            "62/62 [==============================] - 0s 1ms/step - loss: 0.5276 - accuracy: 0.7168\n",
            "Epoch 11/100\n",
            "62/62 [==============================] - 0s 1ms/step - loss: 0.5307 - accuracy: 0.6888\n",
            "Epoch 12/100\n",
            "62/62 [==============================] - 0s 2ms/step - loss: 0.4966 - accuracy: 0.7238\n",
            "Epoch 13/100\n",
            "62/62 [==============================] - 0s 1ms/step - loss: 0.4813 - accuracy: 0.7625\n",
            "Epoch 14/100\n",
            "62/62 [==============================] - 0s 1ms/step - loss: 0.5019 - accuracy: 0.7457\n",
            "Epoch 15/100\n",
            "62/62 [==============================] - 0s 1ms/step - loss: 0.4895 - accuracy: 0.7711\n",
            "Epoch 16/100\n",
            "62/62 [==============================] - 0s 1ms/step - loss: 0.4922 - accuracy: 0.7749\n",
            "Epoch 17/100\n",
            "62/62 [==============================] - 0s 1ms/step - loss: 0.5012 - accuracy: 0.7474\n",
            "Epoch 18/100\n",
            "62/62 [==============================] - 0s 1ms/step - loss: 0.4856 - accuracy: 0.7646\n",
            "Epoch 19/100\n",
            "62/62 [==============================] - 0s 1ms/step - loss: 0.4639 - accuracy: 0.7876\n",
            "Epoch 20/100\n",
            "62/62 [==============================] - 0s 1ms/step - loss: 0.4568 - accuracy: 0.7702\n",
            "Epoch 21/100\n",
            "62/62 [==============================] - 0s 1ms/step - loss: 0.4412 - accuracy: 0.7977\n",
            "Epoch 22/100\n",
            "62/62 [==============================] - 0s 1ms/step - loss: 0.4506 - accuracy: 0.7907\n",
            "Epoch 23/100\n",
            "62/62 [==============================] - 0s 1ms/step - loss: 0.4809 - accuracy: 0.7545\n",
            "Epoch 24/100\n",
            "62/62 [==============================] - 0s 1ms/step - loss: 0.4781 - accuracy: 0.7725\n",
            "Epoch 25/100\n",
            "62/62 [==============================] - 0s 1ms/step - loss: 0.4609 - accuracy: 0.7920\n",
            "Epoch 26/100\n",
            "62/62 [==============================] - 0s 1ms/step - loss: 0.4374 - accuracy: 0.7781\n",
            "Epoch 27/100\n",
            "62/62 [==============================] - 0s 1ms/step - loss: 0.4483 - accuracy: 0.7733\n",
            "Epoch 28/100\n",
            "62/62 [==============================] - 0s 1ms/step - loss: 0.4502 - accuracy: 0.7846\n",
            "Epoch 29/100\n",
            "62/62 [==============================] - 0s 1ms/step - loss: 0.4500 - accuracy: 0.7825\n",
            "Epoch 30/100\n",
            "62/62 [==============================] - 0s 1ms/step - loss: 0.4503 - accuracy: 0.7811\n",
            "Epoch 31/100\n",
            "62/62 [==============================] - 0s 1ms/step - loss: 0.4868 - accuracy: 0.7526\n",
            "Epoch 32/100\n",
            "62/62 [==============================] - 0s 1ms/step - loss: 0.4508 - accuracy: 0.7952\n",
            "Epoch 33/100\n",
            "62/62 [==============================] - 0s 1ms/step - loss: 0.4560 - accuracy: 0.7825\n",
            "Epoch 34/100\n",
            "62/62 [==============================] - 0s 1ms/step - loss: 0.4400 - accuracy: 0.7744\n",
            "Epoch 35/100\n",
            "62/62 [==============================] - 0s 1ms/step - loss: 0.4828 - accuracy: 0.7742\n",
            "Epoch 36/100\n",
            "62/62 [==============================] - 0s 1ms/step - loss: 0.4506 - accuracy: 0.7789\n",
            "Epoch 37/100\n",
            "62/62 [==============================] - 0s 1ms/step - loss: 0.4697 - accuracy: 0.7817\n",
            "Epoch 38/100\n",
            "62/62 [==============================] - 0s 1ms/step - loss: 0.4419 - accuracy: 0.7880\n",
            "Epoch 39/100\n",
            "62/62 [==============================] - 0s 1ms/step - loss: 0.4434 - accuracy: 0.7991\n",
            "Epoch 40/100\n",
            "62/62 [==============================] - 0s 1ms/step - loss: 0.4694 - accuracy: 0.7844\n",
            "Epoch 41/100\n",
            "62/62 [==============================] - 0s 1ms/step - loss: 0.4462 - accuracy: 0.7816\n",
            "Epoch 42/100\n",
            "62/62 [==============================] - 0s 1ms/step - loss: 0.4287 - accuracy: 0.8005\n",
            "Epoch 43/100\n",
            "62/62 [==============================] - 0s 1ms/step - loss: 0.4650 - accuracy: 0.7699\n",
            "Epoch 44/100\n",
            "62/62 [==============================] - 0s 1ms/step - loss: 0.4429 - accuracy: 0.7978\n",
            "Epoch 45/100\n",
            "62/62 [==============================] - 0s 1ms/step - loss: 0.4549 - accuracy: 0.7920\n",
            "Epoch 46/100\n",
            "62/62 [==============================] - 0s 1ms/step - loss: 0.4414 - accuracy: 0.7831\n",
            "Epoch 47/100\n",
            "62/62 [==============================] - 0s 1ms/step - loss: 0.4527 - accuracy: 0.7721\n",
            "Epoch 48/100\n",
            "62/62 [==============================] - 0s 1ms/step - loss: 0.4420 - accuracy: 0.7966\n",
            "Epoch 49/100\n",
            "62/62 [==============================] - 0s 1ms/step - loss: 0.4386 - accuracy: 0.7983\n",
            "Epoch 50/100\n",
            "62/62 [==============================] - 0s 1ms/step - loss: 0.4223 - accuracy: 0.8018\n",
            "Epoch 51/100\n",
            "62/62 [==============================] - 0s 1ms/step - loss: 0.4225 - accuracy: 0.8023\n",
            "Epoch 52/100\n",
            "62/62 [==============================] - 0s 1ms/step - loss: 0.4597 - accuracy: 0.7630\n",
            "Epoch 53/100\n",
            "62/62 [==============================] - 0s 1ms/step - loss: 0.4341 - accuracy: 0.7866\n",
            "Epoch 54/100\n",
            "62/62 [==============================] - 0s 1ms/step - loss: 0.4192 - accuracy: 0.7968\n",
            "Epoch 55/100\n",
            "62/62 [==============================] - 0s 1ms/step - loss: 0.4377 - accuracy: 0.7963\n",
            "Epoch 56/100\n",
            "62/62 [==============================] - 0s 1ms/step - loss: 0.4447 - accuracy: 0.8020\n",
            "Epoch 57/100\n",
            "62/62 [==============================] - 0s 1ms/step - loss: 0.4307 - accuracy: 0.7927\n",
            "Epoch 58/100\n",
            "62/62 [==============================] - 0s 1ms/step - loss: 0.4459 - accuracy: 0.7829\n",
            "Epoch 59/100\n",
            "62/62 [==============================] - 0s 1ms/step - loss: 0.4514 - accuracy: 0.7948\n",
            "Epoch 60/100\n",
            "62/62 [==============================] - 0s 1ms/step - loss: 0.4369 - accuracy: 0.7912\n",
            "Epoch 61/100\n",
            "62/62 [==============================] - 0s 1ms/step - loss: 0.4275 - accuracy: 0.7914\n",
            "Epoch 62/100\n",
            "62/62 [==============================] - 0s 1ms/step - loss: 0.4350 - accuracy: 0.7984\n",
            "Epoch 63/100\n",
            "62/62 [==============================] - 0s 1ms/step - loss: 0.4488 - accuracy: 0.7803\n",
            "Epoch 64/100\n",
            "62/62 [==============================] - 0s 1ms/step - loss: 0.4129 - accuracy: 0.8086\n",
            "Epoch 65/100\n",
            "62/62 [==============================] - 0s 1ms/step - loss: 0.4390 - accuracy: 0.7890\n",
            "Epoch 66/100\n",
            "62/62 [==============================] - 0s 1ms/step - loss: 0.4506 - accuracy: 0.7866\n",
            "Epoch 67/100\n",
            "62/62 [==============================] - 0s 1ms/step - loss: 0.4376 - accuracy: 0.7769\n",
            "Epoch 68/100\n",
            "62/62 [==============================] - 0s 1ms/step - loss: 0.4098 - accuracy: 0.7987\n",
            "Epoch 69/100\n",
            "62/62 [==============================] - 0s 1ms/step - loss: 0.4508 - accuracy: 0.7797\n",
            "Epoch 70/100\n",
            "62/62 [==============================] - 0s 1ms/step - loss: 0.4141 - accuracy: 0.8193\n",
            "Epoch 71/100\n",
            "62/62 [==============================] - 0s 1ms/step - loss: 0.4492 - accuracy: 0.8004\n",
            "Epoch 72/100\n",
            "62/62 [==============================] - 0s 1ms/step - loss: 0.4399 - accuracy: 0.7743\n",
            "Epoch 73/100\n",
            "62/62 [==============================] - 0s 1ms/step - loss: 0.4225 - accuracy: 0.7961\n",
            "Epoch 74/100\n",
            "62/62 [==============================] - 0s 1ms/step - loss: 0.4165 - accuracy: 0.8004\n",
            "Epoch 75/100\n",
            "62/62 [==============================] - 0s 1ms/step - loss: 0.4386 - accuracy: 0.8035\n",
            "Epoch 76/100\n",
            "62/62 [==============================] - 0s 1ms/step - loss: 0.4169 - accuracy: 0.7967\n",
            "Epoch 77/100\n",
            "62/62 [==============================] - 0s 1ms/step - loss: 0.4439 - accuracy: 0.7943\n",
            "Epoch 78/100\n",
            "62/62 [==============================] - 0s 1ms/step - loss: 0.4274 - accuracy: 0.7836\n",
            "Epoch 79/100\n",
            "62/62 [==============================] - 0s 1ms/step - loss: 0.4148 - accuracy: 0.8113\n",
            "Epoch 80/100\n",
            "62/62 [==============================] - 0s 1ms/step - loss: 0.4314 - accuracy: 0.7916\n",
            "Epoch 81/100\n",
            "62/62 [==============================] - 0s 2ms/step - loss: 0.4473 - accuracy: 0.7835\n",
            "Epoch 82/100\n",
            "62/62 [==============================] - 0s 2ms/step - loss: 0.4550 - accuracy: 0.7631\n",
            "Epoch 83/100\n",
            "62/62 [==============================] - 0s 1ms/step - loss: 0.4252 - accuracy: 0.7946\n",
            "Epoch 84/100\n",
            "62/62 [==============================] - 0s 1ms/step - loss: 0.4320 - accuracy: 0.7889\n",
            "Epoch 85/100\n",
            "62/62 [==============================] - 0s 1ms/step - loss: 0.4483 - accuracy: 0.7884\n",
            "Epoch 86/100\n",
            "62/62 [==============================] - 0s 1ms/step - loss: 0.4240 - accuracy: 0.7943\n",
            "Epoch 87/100\n",
            "62/62 [==============================] - 0s 1ms/step - loss: 0.4067 - accuracy: 0.8046\n",
            "Epoch 88/100\n",
            "62/62 [==============================] - 0s 1ms/step - loss: 0.4448 - accuracy: 0.7862\n",
            "Epoch 89/100\n",
            "62/62 [==============================] - 0s 1ms/step - loss: 0.4255 - accuracy: 0.7999\n",
            "Epoch 90/100\n",
            "62/62 [==============================] - 0s 1ms/step - loss: 0.4169 - accuracy: 0.8026\n",
            "Epoch 91/100\n",
            "62/62 [==============================] - 0s 1ms/step - loss: 0.4087 - accuracy: 0.7960\n",
            "Epoch 92/100\n",
            "62/62 [==============================] - 0s 1ms/step - loss: 0.4424 - accuracy: 0.7697\n",
            "Epoch 93/100\n",
            "62/62 [==============================] - 0s 1ms/step - loss: 0.4346 - accuracy: 0.7888\n",
            "Epoch 94/100\n",
            "62/62 [==============================] - 0s 1ms/step - loss: 0.4322 - accuracy: 0.7958\n",
            "Epoch 95/100\n",
            "62/62 [==============================] - 0s 1ms/step - loss: 0.4216 - accuracy: 0.7928\n",
            "Epoch 96/100\n",
            "62/62 [==============================] - 0s 1ms/step - loss: 0.4216 - accuracy: 0.7816\n",
            "Epoch 97/100\n",
            "62/62 [==============================] - 0s 1ms/step - loss: 0.4264 - accuracy: 0.7811\n",
            "Epoch 98/100\n",
            "62/62 [==============================] - 0s 1ms/step - loss: 0.4289 - accuracy: 0.7919\n",
            "Epoch 99/100\n",
            "62/62 [==============================] - 0s 1ms/step - loss: 0.4547 - accuracy: 0.7794\n",
            "Epoch 100/100\n",
            "62/62 [==============================] - 0s 1ms/step - loss: 0.4209 - accuracy: 0.7957\n"
          ],
          "name": "stdout"
        },
        {
          "output_type": "execute_result",
          "data": {
            "text/plain": [
              "<keras.callbacks.History at 0x7f2f317c75d0>"
            ]
          },
          "metadata": {
            "tags": []
          },
          "execution_count": 17
        }
      ]
    },
    {
      "cell_type": "code",
      "metadata": {
        "id": "kUaQqZJavcpv"
      },
      "source": [
        "##5. Evaluate data with test data\n",
        "y_pred = layer.predict(X_test)\n",
        "y_pred = (y_pred > 0.5)\n",
        "\n"
      ],
      "execution_count": 18,
      "outputs": []
    },
    {
      "cell_type": "code",
      "metadata": {
        "colab": {
          "base_uri": "https://localhost:8080/"
        },
        "id": "-OpfMgJnvi3u",
        "outputId": "b6fede5a-8344-4030-ae03-47d460427e71"
      },
      "source": [
        "#Lets use the confusion matrix for accuracy calculations\n",
        "from sklearn.metrics import confusion_matrix\n",
        "\n",
        "con_mat = confusion_matrix(y_test,y_pred)\n",
        "print(con_mat)\n"
      ],
      "execution_count": 19,
      "outputs": [
        {
          "output_type": "stream",
          "text": [
            "[[90 17]\n",
            " [15 32]]\n"
          ],
          "name": "stdout"
        }
      ]
    },
    {
      "cell_type": "code",
      "metadata": {
        "colab": {
          "base_uri": "https://localhost:8080/"
        },
        "id": "1PITwQ__vlz_",
        "outputId": "414650c4-d310-4b77-914b-d7175aec6bbb"
      },
      "source": [
        "#Lets check accuracy\n",
        "\n",
        "accuracy = (con_mat[0][0]+con_mat[1][1])/(con_mat[0][0]+con_mat[0][1]+con_mat[1][0]+con_mat[1][1])\n",
        "print(\"Accuracy: \"+ str(accuracy*100)+\"%\")"
      ],
      "execution_count": 20,
      "outputs": [
        {
          "output_type": "stream",
          "text": [
            "Accuracy: 79.22077922077922%\n"
          ],
          "name": "stdout"
        }
      ]
    },
    {
      "cell_type": "code",
      "metadata": {
        "colab": {
          "base_uri": "https://localhost:8080/"
        },
        "id": "6UZZuPR1v2eG",
        "outputId": "fb3d2cca-2df8-4868-d72d-365ab7cd3ada"
      },
      "source": [
        "#lets use other modes also to calculate the score\n",
        "\n",
        "from sklearn.metrics import precision_score\n",
        "from sklearn.metrics import recall_score\n",
        "from sklearn.metrics import f1_score\n",
        "from sklearn.metrics import cohen_kappa_score\n",
        "\n",
        "#Precision Score\n",
        "precision_score(y_test,y_pred)\n",
        "\n"
      ],
      "execution_count": 24,
      "outputs": [
        {
          "output_type": "execute_result",
          "data": {
            "text/plain": [
              "0.6530612244897959"
            ]
          },
          "metadata": {
            "tags": []
          },
          "execution_count": 24
        }
      ]
    },
    {
      "cell_type": "code",
      "metadata": {
        "colab": {
          "base_uri": "https://localhost:8080/"
        },
        "id": "kgjLc5bQv_px",
        "outputId": "4417219b-3a12-4264-8e10-7624a173eee8"
      },
      "source": [
        "#Recall Score\n",
        "recall_score(y_test,y_pred)\n",
        "\n"
      ],
      "execution_count": 26,
      "outputs": [
        {
          "output_type": "execute_result",
          "data": {
            "text/plain": [
              "0.6808510638297872"
            ]
          },
          "metadata": {
            "tags": []
          },
          "execution_count": 26
        }
      ]
    },
    {
      "cell_type": "code",
      "metadata": {
        "colab": {
          "base_uri": "https://localhost:8080/"
        },
        "id": "GJU1LhzMwgm0",
        "outputId": "d0450ce7-ed50-47f2-e406-5ff72b4429a1"
      },
      "source": [
        "#F1 Score\n",
        "f1_score(y_test,y_pred)\n"
      ],
      "execution_count": 27,
      "outputs": [
        {
          "output_type": "execute_result",
          "data": {
            "text/plain": [
              "0.6666666666666666"
            ]
          },
          "metadata": {
            "tags": []
          },
          "execution_count": 27
        }
      ]
    },
    {
      "cell_type": "code",
      "metadata": {
        "colab": {
          "base_uri": "https://localhost:8080/"
        },
        "id": "CRNM_IcGwjQf",
        "outputId": "e27ca784-6798-4cd7-c1b3-167489a8d66b"
      },
      "source": [
        "\n",
        "#Cohens Kappa Score\n",
        "cohen_kappa_score(y_test,y_pred)"
      ],
      "execution_count": 28,
      "outputs": [
        {
          "output_type": "execute_result",
          "data": {
            "text/plain": [
              "0.515818431911967"
            ]
          },
          "metadata": {
            "tags": []
          },
          "execution_count": 28
        }
      ]
    }
  ]
}